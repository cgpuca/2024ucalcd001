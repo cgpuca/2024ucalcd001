{
  "nbformat": 4,
  "nbformat_minor": 0,
  "metadata": {
    "colab": {
      "provenance": [],
      "include_colab_link": true
    },
    "kernelspec": {
      "name": "python3",
      "display_name": "Python 3"
    },
    "language_info": {
      "name": "python"
    }
  },
  "cells": [
    {
      "cell_type": "markdown",
      "metadata": {
        "id": "view-in-github",
        "colab_type": "text"
      },
      "source": [
        "<a href=\"https://colab.research.google.com/github/cgpuca/2024ucalcd001/blob/main/Graficos_de_Contorno.ipynb\" target=\"_parent\"><img src=\"https://colab.research.google.com/assets/colab-badge.svg\" alt=\"Open In Colab\"/></a>"
      ]
    },
    {
      "cell_type": "markdown",
      "source": [
        "# **Objetivo:**\n",
        "\n",
        "El objetivo será que los estudiantes puedan visualizar y comprender la distribución de valores en un conjunto de datos bidimensional y apreciar la utilidad de este tipo de representación gráfica.\n",
        "\n",
        "**Contexto del ejercicio:**\n",
        "\n",
        "Imagina que trabajas para una empresa que se dedica a la exploración y extracción de recursos naturales. Tu equipo ha estado realizando estudios geológicos en una región montañosa para identificar posibles áreas ricas en minerales valiosos. Durante las exploraciones, se han recolectado muestras de roca en diferentes puntos de coordenadas (x, y) y se ha medido la concentración de un mineral específico en cada una de estas muestras.\n",
        "\n",
        "Tu tarea es analizar los datos de concentración del mineral y crear una visualización que permita identificar las áreas más prometedoras para la extracción. Para ello, utilizarás un gráfico de contorno, que te permitirá representar la distribución de las concentraciones del mineral en todo el área de estudio."
      ],
      "metadata": {
        "id": "ZRphlqwz7O-Y"
      }
    },
    {
      "cell_type": "markdown",
      "source": [
        "**Pasos:**  \n",
        "Importa las bibliotecas necesarias, como **plotly.offline** y **plotly.graph_objs**."
      ],
      "metadata": {
        "id": "bUIMYV9tOB53"
      }
    },
    {
      "cell_type": "code",
      "execution_count": null,
      "metadata": {
        "id": "8JVMjG97OIl0"
      },
      "outputs": [],
      "source": [
        "import plotly.graph_objs as go\n",
        "from plotly.offline import iplot"
      ]
    },
    {
      "cell_type": "markdown",
      "source": [
        "Crea un conjunto de datos de ejemplo con **coordenadas (x, y)** y las concentraciones del mineral correspondientes. Puedes utilizar los siguientes valores:"
      ],
      "metadata": {
        "id": "7oRSfhDuONdA"
      }
    },
    {
      "cell_type": "code",
      "source": [
        "# Datos de ejemplo\n",
        "coordenadas_x = [0, 1, 2, 3, 4, 5]\n",
        "coordenadas_y = [0, 1, 2, 3, 4, 5]\n",
        "concentraciones = [[10, 10.625, 12.5, 15.625, 20, 40],\n",
        "                   [5.625, 6.25, 8.125, 11.25, 15.625, 26.11],\n",
        "                   [2.5, 3.125, 5.0, 8.125, 12.5, 12.005],\n",
        "                   [0.625, 1.25, 3.125, 6.25, 10.625, 23.34],\n",
        "                   [0, 0.625, 2.5, 5.625, 10, 12.89]]\n"
      ],
      "metadata": {
        "id": "PSxWnXJOOa8m"
      },
      "execution_count": null,
      "outputs": []
    },
    {
      "cell_type": "markdown",
      "source": [
        "Utiliza la función **go.Contour** de la biblioteca **plotly.graph_objs** para crear un objeto de datos que represente el gráfico de contorno.\\\n",
        "Pasa los datos de **coordenadas_x**, **coordenadas_y** y concentraciones como argumentos a la función **go.Contour.**\\\n",
        "Utiliza la función **iplot** de **plotly.offline** para mostrar el gráfico de contorno interactivo."
      ],
      "metadata": {
        "id": "pqhNESxbOccN"
      }
    },
    {
      "cell_type": "code",
      "execution_count": null,
      "metadata": {
        "id": "pqJSTioaMyxl"
      },
      "outputs": [],
      "source": [
        "\n",
        "# Crear el gráfico de contorno\n",
        "data = [go.Contour(\n",
        "    x=coordenadas_x,\n",
        "    y=coordenadas_y,\n",
        "    z=concentraciones,\n",
        "    colorscale='Viridis',\n",
        "    contours=dict(\n",
        "        coloring='heatmap',\n",
        "        showlabels=True,\n",
        "        labelfont=dict(\n",
        "            size=12,\n",
        "            color='white'\n",
        "        )\n",
        "    )\n",
        ")]\n",
        "\n",
        "# Configurar el layout del gráfico\n",
        "layout = go.Layout(\n",
        "    title='Concentración de Minerales en Área de Estudio',\n",
        "    xaxis=dict(title='Coordenada X'),\n",
        "    yaxis=dict(title='Coordenada Y'),\n",
        "    autosize=False,\n",
        "    width=1000,\n",
        "    height=700\n",
        ")\n",
        "\n",
        "# Crear la figura y mostrar el gráfico\n",
        "fig = go.Figure(data=data, layout=layout)\n",
        "iplot(fig)"
      ]
    }
  ]
}